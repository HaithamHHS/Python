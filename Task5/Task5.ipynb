{
 "cells": [
  {
   "cell_type": "markdown",
   "metadata": {},
   "source": [
    "<div style=\"display: flex; align-items: center;\">\n",
    "    <img src=\"../img/es_logo.png\" alt=\"title\" style=\"margin-right: 20px;\">\n",
    "    <h1>Data Structures</h1>\n",
    "</div>"
   ]
  },
  {
   "cell_type": "markdown",
   "metadata": {},
   "source": [
    "### Submission Instructions\n",
    "\n",
    "- Complete the excercises in the notebook below.\n",
    "- Once you have completed the notebook, you should submit the completed notebook and any additional files you created for the assignment by uploading them to your github profile and sharing the github link as the submission.\n",
    "- your github repostory should contain the required files as well as a README.md file that summarizes what you have learned in this module."
   ]
  },
  {
   "cell_type": "markdown",
   "metadata": {},
   "source": [
    "### Recommended Readings:\n",
    "- GeeckforGeeks: [Linked List Data Structure](https://www.geeksforgeeks.org/data-structures/linked-list/)\n",
    "- GeeckforGeeks: [Stack Data Structure](https://www.geeksforgeeks.org/stack-data-structure/)\n",
    "- GeeckforGeeks: [Queue Data Structure](https://www.geeksforgeeks.org/queue-data-structure/)\n",
    "- GeeckforGeeks: [Binary Search Tree Data Structure](https://www.geeksforgeeks.org/binary-search-tree-in-python/)\n",
    "- GeeckforGeeks: [Binary Search Tree Traversal](https://www.geeksforgeeks.org/binary-search-tree-traversal-inorder-preorder-post-order/)\n"
   ]
  },
  {
   "cell_type": "markdown",
   "metadata": {},
   "source": [
    "#### Exercise 1:\n",
    "For the linked list implementation provided in the notebook, implement a `has_cycle` method that returns `True` if a cycle is present in a linked list, otherwise `False`.\n",
    "\n",
    "you will need to use two pointers to solve this problem. Initialize both `p1` and `p2` to the head of the linked list, then move `p1` by one and `p2` by two. If the linked list has a cycle, then `p1` and `p2` will be equal at some point. If no cycle is present, then `p2` will reach the end of the linked list."
   ]
  },
  {
   "cell_type": "code",
   "execution_count": null,
   "metadata": {},
   "outputs": [],
   "source": [
    "# Your code here\n",
    "class Node:\n",
    "    def __init__(self, data):\n",
    "        self.data = data\n",
    "        self.next = None\n",
    "\n",
    "class LinkedList:\n",
    "    def __init__(self):\n",
    "        self.head = None\n",
    "    \n",
    "    def has_cycle(self):\n",
    "        if not self.head:\n",
    "            return False\n",
    "        \n",
    "        slow_ptr = self.head\n",
    "        fast_ptr = self.head\n",
    "        \n",
    "        while fast_ptr and fast_ptr.next:\n",
    "            slow_ptr = slow_ptr.next\n",
    "            fast_ptr = fast_ptr.next.next\n",
    "            \n",
    "            if slow_ptr == fast_ptr:\n",
    "                return True\n",
    "        \n",
    "        return False\n"
   ]
  },
  {
   "cell_type": "markdown",
   "metadata": {},
   "source": [
    "#### Exercise 2:\n",
    "Implement the following methods for the doubly linked list:\n",
    "* `prepend(value)`: Add a node to the beginning of the list.\n",
    "* `delete(value)`: Delete the first node with the specified value.\n",
    "* `reverse()`: Reverse the list in-place."
   ]
  },
  {
   "cell_type": "code",
   "execution_count": null,
   "metadata": {},
   "outputs": [],
   "source": [
    "# Your code here (we use Node Class from above)\\\n",
    "class DoublyLinkedList:\n",
    "    def __init__(self):\n",
    "        self.head = None\n",
    "        self.tail = None\n",
    "    \n",
    "    def prepend(self, value):\n",
    "        new_node = Node(value)\n",
    "        if self.head is None:\n",
    "            self.head = new_node\n",
    "            self.tail = new_node\n",
    "        else:\n",
    "            new_node.next = self.head\n",
    "            self.head.prev = new_node\n",
    "            self.head = new_node\n",
    "    \n",
    "    def delete(self, value):\n",
    "        current = self.head\n",
    "        \n",
    "        while current:\n",
    "            if current.value == value:\n",
    "                if current.prev:\n",
    "                    current.prev.next = current.next\n",
    "                else:  \n",
    "                    self.head = current.next\n",
    "                \n",
    "                if current.next:\n",
    "                    current.next.prev = current.prev\n",
    "                else:  \n",
    "                    self.tail = current.prev\n",
    "                \n",
    "                return  \n",
    "        \n",
    "            current = current.next\n",
    "        \n",
    "    def reverse(self):\n",
    "        current = self.head\n",
    "        prev_node = None\n",
    "        \n",
    "        while current:\n",
    "            next_node = current.next\n",
    "            current.next = prev_node\n",
    "            current.prev = next_node\n",
    "            prev_node = current\n",
    "            current = next_node\n",
    "        \n",
    "        # here we do the swap \n",
    "        self.tail, self.head = self.head, self.tail\n"
   ]
  },
  {
   "cell_type": "markdown",
   "metadata": {},
   "source": [
    "#### Exercise 3:\n",
    "Implement the `postorder_traversal` method for the binary tree implementation provided in the notebook. The method should return a list of node values resulting from a postorder traversal."
   ]
  },
  {
   "cell_type": "code",
   "execution_count": 1,
   "metadata": {},
   "outputs": [
    {
     "name": "stdout",
     "output_type": "stream",
     "text": [
      "[4, 5, 2, 6, 7, 3, 1]\n"
     ]
    }
   ],
   "source": [
    "# Your code here\n",
    "\n",
    "class Node:\n",
    "    def __init__(self, value):\n",
    "        self.value = value\n",
    "        self.left = None\n",
    "        self.right = None\n",
    "\n",
    "class BinaryTree:\n",
    "    def __init__(self, root_value):\n",
    "        self.root = Node(root_value)\n",
    "    \n",
    "    def postorder_traversal(self, node):\n",
    "        result = []\n",
    "        if node:\n",
    "            result.extend(self.postorder_traversal(node.left))\n",
    "            result.extend(self.postorder_traversal(node.right))\n",
    "            result.append(node.value)\n",
    "        return result\n",
    "    \n",
    "    def get_root(self):\n",
    "        return self.root\n",
    "\n",
    "tree = BinaryTree(1)\n",
    "tree.get_root().left = Node(2)\n",
    "tree.get_root().right = Node(3)\n",
    "tree.get_root().left.left = Node(4)\n",
    "tree.get_root().left.right = Node(5)\n",
    "tree.get_root().right.left = Node(6)\n",
    "tree.get_root().right.right = Node(7)\n",
    "\n",
    "# Perform postorder traversal\n",
    "postorder_result = tree.postorder_traversal(tree.get_root())\n",
    "print(postorder_result) \n"
   ]
  }
 ],
 "metadata": {
  "kernelspec": {
   "display_name": "Python 3",
   "language": "python",
   "name": "python3"
  },
  "language_info": {
   "codemirror_mode": {
    "name": "ipython",
    "version": 3
   },
   "file_extension": ".py",
   "mimetype": "text/x-python",
   "name": "python",
   "nbconvert_exporter": "python",
   "pygments_lexer": "ipython3",
   "version": "3.12.4"
  }
 },
 "nbformat": 4,
 "nbformat_minor": 2
}
