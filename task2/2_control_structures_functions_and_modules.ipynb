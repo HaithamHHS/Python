{
 "cells": [
  {
   "cell_type": "markdown",
   "metadata": {},
   "source": [
    "<div style=\"display: flex; align-items: center;\">\n",
    "    <img src=\"../img/es_logo.png\" alt=\"title\" style=\"margin-right: 20px;\">\n",
    "    <h1>Control Structures, Functions and Modules</h1>\n",
    "</div>"
   ]
  },
  {
   "cell_type": "markdown",
   "metadata": {},
   "source": [
    "### Submission Instructions\n",
    "\n",
    "- Complete the excercises in the notebook below.\n",
    "- Once you have completed the notebook, you should submit the completed notebook and any additional files you created for the assignment by uploading them to your github profile and sharing the github link as the submission.\n",
    "- your github repostory should contain the required files as well as a README.md file that summarizes what you have learned in this module."
   ]
  },
  {
   "cell_type": "markdown",
   "metadata": {},
   "source": [
    "### Recommended Readings:\n",
    "- Control Structures in Python: [javatpoint](https://www.javatpoint.com/control-structures-in-python)\n",
    "- Functions in Python: [w3schools](https://www.w3schools.com/python/python_functions.asp)\n",
    "- Modules in Python: [docs](https://docs.python.org/3/tutorial/modules.html)\n",
    "- Modules in Python: [RealPython](https://realpython.com/python-modules-packages/)"
   ]
  },
  {
   "cell_type": "markdown",
   "metadata": {},
   "source": [
    "#### Excercise 1:\n",
    "Write a Python function that takes two integers as input, and then prints the sum, difference, and product of the two numbers."
   ]
  },
  {
   "cell_type": "code",
   "execution_count": 4,
   "metadata": {},
   "outputs": [
    {
     "name": "stdout",
     "output_type": "stream",
     "text": [
      "sum : 12  subtract : -6  multiply : 27\n"
     ]
    }
   ],
   "source": [
    "def calculate(int1: int, int2: int):\n",
    "    return int1+int2 , int1-int2 , int1*int2\n",
    "\n",
    "sum , subtract , multiply = calculate(3,9)\n",
    "print(f\"sum : {sum}  subtract : {subtract}  multiply : {multiply}\")"
   ]
  },
  {
   "cell_type": "markdown",
   "metadata": {},
   "source": [
    "#### Excercise 2:\n",
    "Write a program that prints the numbers from 1 to 50. For multiples of three, print \"Fizz\" instead of the number, and for multiples of five, print \"Buzz\". For numbers that are multiples of both three and five, print \"FizzBuzz\".\n",
    "\n",
    "The solution to this problem should be uploaded within a file fizzbuzz.py"
   ]
  },
  {
   "cell_type": "markdown",
   "metadata": {},
   "source": [
    "#### Excercise 3:\n",
    "Create a Python module, called \"factorial\", that contains two functions. The first function `factorial(n: int) -> int` should return the factorial of the number n. The second function `list_factorial([n1, n2, n3, ...]) -> List[int]` should return a list of factorials of the numbers in the input list."
   ]
  },
  {
   "cell_type": "code",
   "execution_count": 5,
   "metadata": {},
   "outputs": [
    {
     "name": "stdout",
     "output_type": "stream",
     "text": [
      "120\n"
     ]
    },
    {
     "ename": "ImportError",
     "evalue": "cannot import name 'list_factorial' from 'factorial' (c:\\Users\\haalshal\\OneDrive - Cisco\\Desktop\\python\\Task2\\factorial.py)",
     "output_type": "error",
     "traceback": [
      "\u001b[1;31m---------------------------------------------------------------------------\u001b[0m",
      "\u001b[1;31mImportError\u001b[0m                               Traceback (most recent call last)",
      "Cell \u001b[1;32mIn[5], line 1\u001b[0m\n\u001b[1;32m----> 1\u001b[0m \u001b[38;5;28;01mfrom\u001b[39;00m \u001b[38;5;21;01mfactorial\u001b[39;00m \u001b[38;5;28;01mimport\u001b[39;00m factorial, list_factorial\n\u001b[0;32m      3\u001b[0m \u001b[38;5;28mprint\u001b[39m(factorial(\u001b[38;5;241m5\u001b[39m))\n\u001b[0;32m      5\u001b[0m \u001b[38;5;28mprint\u001b[39m(list_factorial([\u001b[38;5;241m1\u001b[39m,\u001b[38;5;241m2\u001b[39m,\u001b[38;5;241m3\u001b[39m,\u001b[38;5;241m4\u001b[39m,\u001b[38;5;241m5\u001b[39m]))\n",
      "\u001b[1;31mImportError\u001b[0m: cannot import name 'list_factorial' from 'factorial' (c:\\Users\\haalshal\\OneDrive - Cisco\\Desktop\\python\\Task2\\factorial.py)"
     ]
    }
   ],
   "source": [
    "from factorial import factorial, list_factorial\n",
    "\n",
    "print(factorial(5))\n",
    "\n",
    "print(list_factorial([1,2,3,4,5]))"
   ]
  },
  {
   "cell_type": "markdown",
   "metadata": {},
   "source": [
    "#### Excercise 4:\n",
    "Write a function that takes a number as input and returns True if the number is prime, and False otherwise. A prime number is a number greater than 1 that has no positive divisors other than 1 and itself."
   ]
  },
  {
   "cell_type": "code",
   "execution_count": 21,
   "metadata": {},
   "outputs": [
    {
     "name": "stdout",
     "output_type": "stream",
     "text": [
      "True\n"
     ]
    }
   ],
   "source": [
    "\n",
    "number = int(input(\"Kindly enter any number to check if it is a prime number \"))\n",
    "\n",
    "def is_prime(n: int):\n",
    "\t\t\n",
    "\t\tfor i in range(2,int(n/2)+1):\n",
    "\t\t\tif n%i==0:\n",
    "\t\t\t\treturn False\n",
    "\t\t\telse:\n",
    "\t\t\t\treturn True\n",
    "        \n",
    "\n",
    "print(is_prime(number))"
   ]
  },
  {
   "cell_type": "markdown",
   "metadata": {},
   "source": [
    "#### Excercise 5:\n",
    "Create a Python module named \"math_utils.py\" that contains the following functions:\n",
    "- `add` - returns the sum of two numbers\n",
    "- `sub` - returns the difference between two numbers\n",
    "- `mul` - returns the product of two numbers\n",
    "- `div` - returns the division of two numbers"
   ]
  },
  {
   "cell_type": "code",
   "execution_count": 26,
   "metadata": {},
   "outputs": [
    {
     "ename": "AttributeError",
     "evalue": "module 'math_utils' has no attribute 'add'",
     "output_type": "error",
     "traceback": [
      "\u001b[1;31m---------------------------------------------------------------------------\u001b[0m",
      "\u001b[1;31mAttributeError\u001b[0m                            Traceback (most recent call last)",
      "Cell \u001b[1;32mIn[26], line 4\u001b[0m\n\u001b[0;32m      2\u001b[0m a \u001b[38;5;241m=\u001b[39m \u001b[38;5;241m10\u001b[39m\n\u001b[0;32m      3\u001b[0m b \u001b[38;5;241m=\u001b[39m \u001b[38;5;241m5\u001b[39m\n\u001b[1;32m----> 4\u001b[0m \u001b[38;5;28mprint\u001b[39m(\u001b[38;5;124mf\u001b[39m\u001b[38;5;124m\"\u001b[39m\u001b[38;5;124mAddition: \u001b[39m\u001b[38;5;132;01m{\u001b[39;00m\u001b[43mmath_utils\u001b[49m\u001b[38;5;241;43m.\u001b[39;49m\u001b[43madd\u001b[49m(a,\u001b[38;5;250m \u001b[39mb)\u001b[38;5;132;01m}\u001b[39;00m\u001b[38;5;124m\"\u001b[39m)        \n\u001b[0;32m      5\u001b[0m \u001b[38;5;28mprint\u001b[39m(\u001b[38;5;124mf\u001b[39m\u001b[38;5;124m\"\u001b[39m\u001b[38;5;124mSubtraction: \u001b[39m\u001b[38;5;132;01m{\u001b[39;00mmath_utils\u001b[38;5;241m.\u001b[39msubtract(a,\u001b[38;5;250m \u001b[39mb)\u001b[38;5;132;01m}\u001b[39;00m\u001b[38;5;124m\"\u001b[39m)  \n\u001b[0;32m      6\u001b[0m \u001b[38;5;28mprint\u001b[39m(\u001b[38;5;124mf\u001b[39m\u001b[38;5;124m\"\u001b[39m\u001b[38;5;124mMultiplication: \u001b[39m\u001b[38;5;132;01m{\u001b[39;00mmath_utils\u001b[38;5;241m.\u001b[39mmultiply(a,\u001b[38;5;250m \u001b[39mb)\u001b[38;5;132;01m}\u001b[39;00m\u001b[38;5;124m\"\u001b[39m)  \n",
      "\u001b[1;31mAttributeError\u001b[0m: module 'math_utils' has no attribute 'add'"
     ]
    }
   ],
   "source": [
    "import math_utils\n",
    "a = 10\n",
    "b = 5\n",
    "print(f\"Addition: {math_utils.add(a, b)}\")        \n",
    "print(f\"Subtraction: {math_utils.subtract(a, b)}\")  \n",
    "print(f\"Multiplication: {math_utils.multiply(a, b)}\")  \n",
    "print(f\"Division: {math_utils.divide(a, b)}\")      "
   ]
  },
  {
   "cell_type": "markdown",
   "metadata": {},
   "source": []
  },
  {
   "cell_type": "markdown",
   "metadata": {},
   "source": [
    "#### Excercise 6:\n",
    "Write a Python program that prompts the user to enter a number, and then prints the number of prime numbers that exist up to the number that was entered.\n",
    "\n",
    "The solution to this problem should be uploaded within a file prime_numbers.py"
   ]
  }
 ],
 "metadata": {
  "kernelspec": {
   "display_name": "Python 3",
   "language": "python",
   "name": "python3"
  },
  "language_info": {
   "codemirror_mode": {
    "name": "ipython",
    "version": 3
   },
   "file_extension": ".py",
   "mimetype": "text/x-python",
   "name": "python",
   "nbconvert_exporter": "python",
   "pygments_lexer": "ipython3",
   "version": "3.12.4"
  }
 },
 "nbformat": 4,
 "nbformat_minor": 2
}
