{
 "cells": [
  {
   "cell_type": "markdown",
   "metadata": {},
   "source": [
    "<div style=\"display: flex; align-items: center;\">\n",
    "    <img src=\"../img/es_logo.png\" alt=\"title\" style=\"margin-right: 20px;\">\n",
    "    <h1>Introduction to Python</h1>\n",
    "</div>"
   ]
  },
  {
   "cell_type": "markdown",
   "metadata": {},
   "source": [
    "### Submission Instructions\n",
    "\n",
    "- Complete the excercises in the notebook below.\n",
    "- Once you have completed the notebook, you should submit the completed notebook and any additional files you created for the assignment by uploading them to your github profile and sharing the github link as the submission.\n",
    "- your github repostory should contain the required files as well as a README.md file that summarizes what you have learned in this module."
   ]
  },
  {
   "cell_type": "markdown",
   "metadata": {},
   "source": [
    "### Recommended Readings:\n",
    "- GeeckforGeeks: [Class methods vs Static methods in Python](https://www.geeksforgeeks.org/class-method-vs-static-method-python/)\n",
    "- GeeksforGeeks: [Encapsulation in Python](https://www.geeksforgeeks.org/encapsulation-in-python/)\n",
    "- Dive Into Python: [Abstract Classes](https://diveintopython.org/learn/classes/abstract-class)\n",
    "- Real Python: [Multiple Inheritance in Python](https://realpython.com/lessons/multiple-inheritance-python/)"
   ]
  },
  {
   "cell_type": "markdown",
   "metadata": {},
   "source": []
  },
  {
   "cell_type": "markdown",
   "metadata": {},
   "source": [
    "#### exercise 1:\n",
    "Create a class named `Car` with the following attributes:\n",
    "- class attribute `car_count` which counts the number of cars created.\n",
    "- instance attributes `color`, `brand`, `year`, and `price`.\n",
    "\n",
    "and the following methods:\n",
    "- a class method `get_car_count` that returns the number of cars created.\n",
    "- a static method `car_info` that returns some information about what a car is."
   ]
  },
  {
   "cell_type": "code",
   "execution_count": 7,
   "metadata": {},
   "outputs": [
    {
     "name": "stdout",
     "output_type": "stream",
     "text": [
      "10\n",
      "A car, or an automobile, is a motor vehicle with wheels. Most definitions of cars state that they run primarily on roads, seat one to eight people, ...\n"
     ]
    }
   ],
   "source": [
    "class Car:\n",
    "    car_count = 10\n",
    "    def __init__(self,color,brand,year,price):\n",
    "        self.color = color\n",
    "        self.brand = brand\n",
    "        self.year = year\n",
    "        self.price = price\n",
    "    @classmethod\n",
    "    def get_car_count(cls):\n",
    "        return f\"number of cars are : {cls.ar_count}\"\n",
    "    @staticmethod\n",
    "    def car_info():\n",
    "        return f\"A car, or an automobile, is a motor vehicle with wheels. Most definitions of cars state that they run primarily on roads, seat one to eight people, ...\"\n",
    "\n",
    "print(Car.car_count)\n",
    "print(Car.car_info())\n"
   ]
  },
  {
   "cell_type": "markdown",
   "metadata": {},
   "source": [
    "#### exercise 2:\n",
    "Create a class named `BankAccount` with the following attributes:\n",
    "- class attribute `interest_rate` that is shared among all instances of the class.\n",
    "- instance attributes `name`, `balance`.\n",
    "\n",
    "and the following methods:\n",
    "- a class method `set_interest_rate` that sets the interest rate.\n",
    "- a class method `get_interest_rate` that returns the interest rate.\n",
    "- a method `add_money` that adds a specific amount to the balance.\n",
    "- a method `withdraw_money` that withdraws a specific amount from the balance.\n",
    "- a method `get_account_balance` that returns the current balance of the account.\n",
    "- a method `calculate_annual_interest` that returns the annual interest on the account.\n",
    "> annual interest = balance * interest rate"
   ]
  },
  {
   "cell_type": "code",
   "execution_count": 21,
   "metadata": {},
   "outputs": [
    {
     "name": "stdout",
     "output_type": "stream",
     "text": [
      "0.05\n",
      "500\n",
      "0.1\n",
      "600\n",
      "550\n",
      "550\n",
      "55.0\n"
     ]
    }
   ],
   "source": [
    "class BankAccount:\n",
    "    interest_rate = 0.05\n",
    "\n",
    "    def __init__(self,name,balance=0):\n",
    "        self.balance = balance\n",
    "        self.name = name\n",
    "    @classmethod\n",
    "    def set_intrest_rate(cls,rate):\n",
    "        cls.interest_rate = rate\n",
    "    @classmethod\n",
    "    def get_intrest_rate(cls):\n",
    "        return cls.interest_rate\n",
    "    def add_money(self,amount):\n",
    "        self.balance += amount\n",
    "        return self.balance\n",
    "    def withdraw_money(self,amount_withdraw):\n",
    "        self.balance-=amount_withdraw\n",
    "        return self.balance\n",
    "    def get_account_balance(self):\n",
    "        return self.balance\n",
    "    def calculate_annual_intreset(self):\n",
    "        annual = self.balance * self.interest_rate\n",
    "        return annual\n",
    "my_account = BankAccount(\"Haitham\",500)\n",
    "\n",
    "print(BankAccount.get_intrest_rate())\n",
    "print(my_account.get_account_balance())\n",
    "BankAccount.set_intrest_rate(0.10)\n",
    "print(BankAccount.get_intrest_rate())\n",
    "print(my_account.add_money(100))\n",
    "print(my_account.withdraw_money(50))\n",
    "print(my_account.get_account_balance())\n",
    "print(my_account.calculate_annual_intreset())\n",
    "\n",
    "\n",
    "\n"
   ]
  },
  {
   "cell_type": "markdown",
   "metadata": {},
   "source": [
    "#### exercise 3:\n",
    "Create a class named `Person` with the following specifications:\n",
    "- private instance attributes `__name`, `__last_name`, `__age`.\n",
    "- create methods using `@property` decorator to return the values of the attributes.\n",
    "- create methods using `@<property_name>.setter` decorator to set the values of the attributes."
   ]
  },
  {
   "cell_type": "code",
   "execution_count": 36,
   "metadata": {},
   "outputs": [
    {
     "name": "stdout",
     "output_type": "stream",
     "text": [
      "Al-Shalabi\n",
      "Al-Shalabi\n",
      "24\n",
      "saif\n",
      "40\n"
     ]
    }
   ],
   "source": [
    "class Person:\n",
    "    def __init__(self ,name,last_name,age):\n",
    "        self.__name = name\n",
    "        self.__last_name = last_name\n",
    "        self.__age = age\n",
    "    @property\n",
    "    def name(self):\n",
    "        return self.__name\n",
    "    \n",
    "    @name.setter\n",
    "    def name(self,new_name):\n",
    "        self.__name = new_name\n",
    "    \n",
    "    @property\n",
    "    def Last_name(self):\n",
    "        return self.__last_name\n",
    "    \n",
    "    @Last_name.setter\n",
    "    def name(self,new_last_name):\n",
    "        self.__last_name = new_last_name\n",
    "\n",
    "    @property\n",
    "    def age(self):\n",
    "        return self.__age\n",
    "\n",
    "    @age.setter\n",
    "    def age(self,new_age):\n",
    "        self.__age = new_age\n",
    "\n",
    "person = Person(\"haitham\" , \"Al-Shalabi\" , 24)\n",
    "print(person.name)\n",
    "print(person.Last_name)\n",
    "print(person.age)\n",
    "person.name = \"saif\"\n",
    "print(person.name)\n",
    "person.age = 40\n",
    "print(person.age)\n",
    "\n",
    "\n"
   ]
  },
  {
   "cell_type": "markdown",
   "metadata": {},
   "source": [
    "#### exercise 4:\n",
    "Create a class named `Employee` with the following attributes:\n",
    "- instance attributes `name`, `salary`.\n",
    "\n",
    "Create a class named `Manager` with the following attributes:\n",
    "- instance attribute `department`.\n",
    "\n",
    "Create a class Executive that inherits from both `Employee` and `Manager` classes and has the following attributes:\n",
    "- instance attributes `company_car`, `bonus`.\n",
    "- implement an appropriate `__str__` method to print the information about the executive."
   ]
  },
  {
   "cell_type": "code",
   "execution_count": 35,
   "metadata": {},
   "outputs": [
    {
     "name": "stdout",
     "output_type": "stream",
     "text": [
      "the executeive told the manager in IT that he has to send the employee Haitham with salary of 10000 to Dodge with a bonus of 450\n"
     ]
    }
   ],
   "source": [
    "class Employee:\n",
    "    def __init__(self,name,salary):\n",
    "        self.name = name\n",
    "        self.salary = salary\n",
    "\n",
    "    def __str__(self):\n",
    "        return \"Employee\"\n",
    "\n",
    "class Manager:\n",
    "    def __init__(self,departement):\n",
    "        self.department = departement\n",
    "\n",
    "class Executive(Employee, Manager):\n",
    "    def __init__(self, name, salary,departement,company_car,bonus):\n",
    "        super().__init__( name, salary)\n",
    "        Manager.__init__(self, departement)\n",
    "        self.company_car = company_car\n",
    "        self.bonus = bonus\n",
    "    def __str__(self) :\n",
    "        return f\"the executeive told the manager in {self.department} that he has to send the employee {self.name} with salary of {self.salary} to {self.company_car} with a bonus of {self.bonus}\"\n",
    "    \n",
    "print(Executive('Haitham',10000,\"IT\",\"Dodge\",450))"
   ]
  },
  {
   "cell_type": "markdown",
   "metadata": {},
   "source": [
    "#### exercise 5:\n",
    "Using method chaining, create a class `Person` with the following attributes:\n",
    "- instance attributes `name`, `age`.\n",
    "\n",
    "and the following methods:\n",
    "- a method `set_name` that sets the name of the person and returns the instance.\n",
    "- a method `set_age` that sets the age of the person and returns the instance.\n",
    "- a method `get_person_info` that returns the information about the person."
   ]
  },
  {
   "cell_type": "markdown",
   "metadata": {},
   "source": []
  },
  {
   "cell_type": "code",
   "execution_count": 23,
   "metadata": {},
   "outputs": [
    {
     "name": "stdout",
     "output_type": "stream",
     "text": [
      "Name: Alice, Age: 30\n"
     ]
    }
   ],
   "source": [
    "class Person:\n",
    "    def __init__(self):\n",
    "        self.name = None\n",
    "        self.age = None\n",
    "    # My Code\n",
    "    def set_name(self, name):\n",
    "        self.name = name\n",
    "        return self  \n",
    "    \n",
    "    def set_age(self, age):\n",
    "        self.age = age\n",
    "        return self  \n",
    "    \n",
    "    def get_person_info(self):\n",
    "        return f\"Name: {self.name}, Age: {self.age}\"\n",
    "\n",
    "\n",
    "person = Person().set_name(\"Alice\").set_age(30)\n",
    "print(person.get_person_info())  \n"
   ]
  }
 ],
 "metadata": {
  "kernelspec": {
   "display_name": "Python 3",
   "language": "python",
   "name": "python3"
  },
  "language_info": {
   "codemirror_mode": {
    "name": "ipython",
    "version": 3
   },
   "file_extension": ".py",
   "mimetype": "text/x-python",
   "name": "python",
   "nbconvert_exporter": "python",
   "pygments_lexer": "ipython3",
   "version": "3.12.4"
  }
 },
 "nbformat": 4,
 "nbformat_minor": 2
}
